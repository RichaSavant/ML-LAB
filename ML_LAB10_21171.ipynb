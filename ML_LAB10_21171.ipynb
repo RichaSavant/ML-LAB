{
  "nbformat": 4,
  "nbformat_minor": 0,
  "metadata": {
    "colab": {
      "provenance": []
    },
    "kernelspec": {
      "name": "python3",
      "display_name": "Python 3"
    },
    "language_info": {
      "name": "python"
    }
  },
  "cells": [
    {
      "cell_type": "code",
      "execution_count": 1,
      "metadata": {
        "colab": {
          "base_uri": "https://localhost:8080/"
        },
        "id": "jbhrN6kJYhps",
        "outputId": "e21a0f68-901d-426d-f4ca-0f1a1d6bc5be"
      },
      "outputs": [
        {
          "output_type": "stream",
          "name": "stdout",
          "text": [
            "hello worldddddd\n"
          ]
        }
      ],
      "source": [
        "print(\"hello worldddddd\")"
      ]
    }
  ]
}